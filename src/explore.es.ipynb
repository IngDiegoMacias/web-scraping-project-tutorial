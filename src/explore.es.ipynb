{
    "cells": [
        {
            "cell_type": "markdown",
            "metadata": {},
            "source": [
                "# Explora aquí\n",
                "\n",
                "Se recomienda utilizar este cuaderno con fines de exploración."
            ]
        },
        {
            "cell_type": "code",
            "execution_count": 1,
            "metadata": {},
            "outputs": [],
            "source": [
                "# Se importa las librerias necesirias. Para Request fue necesario instalar por terminal \"pandas request\"\n",
                "import os\n",
                "from bs4 import BeautifulSoup\n",
                "import requests\n",
                "import time\n",
                "import sqlite3\n",
                "import matplotlib.pyplot as plt\n",
                "import seaborn as sns\n",
                "import pandas as pd\n"
            ]
        },
        {
            "cell_type": "code",
            "execution_count": 2,
            "metadata": {},
            "outputs": [
                {
                    "data": {
                        "text/plain": [
                            "'<html>\\r\\n<head>\\r\\n\\n</head>\\r\\n<body>\\r\\n<div style=\"margin: 50px auto; width: 50%; border: 1px solid #dfdfdf; padding: 20px 50px 30px 50px; font-family:helvetica;\">\\r\\n\\r\\n<h1>We do not allow automated access to our servers.</h1>\\r\\n<h2><p>Automated access to our data is prohibited by our data provider.</p>  \\r\\n<p>If you are a user attempting to access the site via a browser, please follow this process to regain access:</p>\\r\\n\\r\\n<ul>\\r\\n  <li>Go to <a href=\\'https://whatismyipaddress.com/\\' target=\\'_blank\\' rel=\\'noopener noreferrer\\'>whatismyipaddress</a> and obtain your IPv4 address</li>\\r\\n  <li>Email us your IPv4 address at <a href=\"/cdn-cgi/l/email-protection\" class=\"__cf_email__\" data-cfemail=\"4821262e270825292b3a273c3a2d262c3b66262d3c\">[email&#160;protected]</a></li>\\r\\n  <li>We will add you to our whitelist within 24 hours</li>\\r\\n</ul>\\r\\n</h2>\\r\\n</div>\\r\\n<script data-cfasync=\"false\">!function(){\"use strict\";function e(e){try{if(\"undefined\"==typeof console)return;\"error\"in console?console.error(e):console.log(e)}catch(e){}}function t(e,t){var r=e.substr(t,2);return parseInt(r,16)}function r(r,n){for(var c=\"\",o=t(r,n),a=n+2;a<r.length;a+=2){var l=t(r,a)^o;c+=String.fromCharCode(l)}try{c=decodeURIComponent(escape(c))}catch(t){e(t)}return function(e){return i.innerHTML=\\'<a href=\"\\'+e.replace(/\"/g,\"&quot;\")+\\'\"></a>\\',i.childNodes[0].getAttribute(\"href\")||\"\"}(c)}function n(t){try{(function(t){for(var n=t.querySelectorAll(\"a\"),o=0;o<n.length;o++)try{var a=n[o],i=a.href.indexOf(c);i>-1&&(a.href=\"mailto:\"+r(a.href,i+c.length))}catch(t){e(t)}})(t),function(t){for(var n=t.querySelectorAll(o),c=0;c<n.length;c++)try{var i=n[c],l=i.parentNode,u=i.getAttribute(a);if(u){var f=r(u,0),d=document.createTextNode(f);l.replaceChild(d,i)}}catch(t){e(t)}}(t),function(t){for(var r=t.querySelectorAll(\"template\"),c=0;c<r.length;c++)try{n(r[c].content)}catch(t){e(t)}}(t)}catch(t){e(t)}}var c=\"/cdn-cgi/l/email-protection#\",o=\".__cf_email__\",a=\"data-cfemail\",i=document.createElement(\"div\");n(document),function(){var e=document.currentScript||document.scripts[document.scripts.length-1];e.parentNode.removeChild(e)}()}();</script><script>(function(){function c(){var b=a.contentDocument||a.contentWindow.document;if(b){var d=b.createElement(\\'script\\');d.innerHTML=\"window.__CF$cv$params={r:\\'9273e4c45e9313bb\\',t:\\'MTc0MzEzMDk5OC4wMDAwMDA=\\'};var a=document.createElement(\\'script\\');a.nonce=\\'\\';a.src=\\'/cdn-cgi/challenge-platform/scripts/jsd/main.js\\';document.getElementsByTagName(\\'head\\')[0].appendChild(a);\";b.getElementsByTagName(\\'head\\')[0].appendChild(d)}}if(document.body){var a=document.createElement(\\'iframe\\');a.height=1;a.width=1;a.style.position=\\'absolute\\';a.style.top=0;a.style.left=0;a.style.border=\\'none\\';a.style.visibility=\\'hidden\\';document.body.appendChild(a);if(\\'loading\\'!==document.readyState)c();else if(window.addEventListener)document.addEventListener(\\'DOMContentLoaded\\',c);else{var e=document.onreadystatechange||function(){};document.onreadystatechange=function(b){e(b);\\'loading\\'!==document.readyState&&(document.onreadystatechange=e,c())}}}})();</script></body>\\r\\n</html>'"
                        ]
                    },
                    "execution_count": 2,
                    "metadata": {},
                    "output_type": "execute_result"
                }
            ],
            "source": [
                "#El siguiente paso es validar la consulta del HTML\n",
                "html_amazon = requests.get(\"https://macrotrends.net/stocks/charts/AMZN/amazon/revenue\", time.sleep(10)).text\n",
                "#Hacer la validación para conectarse usando Chrome.\n",
                "if \"403 Forbidden\" in html_amazon:\n",
                "    headers = {\"User-Agent\": \"Chrome/50.0.2661.102\"}\n",
                "    request = requests.get(\"https://macrotrends.net/stocks/charts/AMZN/amazon/revenue\", headers = headers)\n",
                "    time.sleep(10)\n",
                "    html_amazon = request.text\n",
                "html_amazon"
            ]
        },
        {
            "cell_type": "code",
            "execution_count": 3,
            "metadata": {},
            "outputs": [
                {
                    "data": {
                        "text/plain": [
                            "<html>\n",
                            "<head>\n",
                            "</head>\n",
                            "<body>\n",
                            "<div style=\"margin: 50px auto; width: 50%; border: 1px solid #dfdfdf; padding: 20px 50px 30px 50px; font-family:helvetica;\">\n",
                            "<h1>We do not allow automated access to our servers.</h1>\n",
                            "<h2><p>Automated access to our data is prohibited by our data provider.</p>\n",
                            "<p>If you are a user attempting to access the site via a browser, please follow this process to regain access:</p>\n",
                            "<ul>\n",
                            "<li>Go to <a href=\"https://whatismyipaddress.com/\" rel=\"noopener noreferrer\" target=\"_blank\">whatismyipaddress</a> and obtain your IPv4 address</li>\n",
                            "<li>Email us your IPv4 address at <a class=\"__cf_email__\" data-cfemail=\"4821262e270825292b3a273c3a2d262c3b66262d3c\" href=\"/cdn-cgi/l/email-protection\">[email protected]</a></li>\n",
                            "<li>We will add you to our whitelist within 24 hours</li>\n",
                            "</ul>\n",
                            "</h2>\n",
                            "</div>\n",
                            "<script data-cfasync=\"false\">!function(){\"use strict\";function e(e){try{if(\"undefined\"==typeof console)return;\"error\"in console?console.error(e):console.log(e)}catch(e){}}function t(e,t){var r=e.substr(t,2);return parseInt(r,16)}function r(r,n){for(var c=\"\",o=t(r,n),a=n+2;a<r.length;a+=2){var l=t(r,a)^o;c+=String.fromCharCode(l)}try{c=decodeURIComponent(escape(c))}catch(t){e(t)}return function(e){return i.innerHTML='<a href=\"'+e.replace(/\"/g,\"&quot;\")+'\"></a>',i.childNodes[0].getAttribute(\"href\")||\"\"}(c)}function n(t){try{(function(t){for(var n=t.querySelectorAll(\"a\"),o=0;o<n.length;o++)try{var a=n[o],i=a.href.indexOf(c);i>-1&&(a.href=\"mailto:\"+r(a.href,i+c.length))}catch(t){e(t)}})(t),function(t){for(var n=t.querySelectorAll(o),c=0;c<n.length;c++)try{var i=n[c],l=i.parentNode,u=i.getAttribute(a);if(u){var f=r(u,0),d=document.createTextNode(f);l.replaceChild(d,i)}}catch(t){e(t)}}(t),function(t){for(var r=t.querySelectorAll(\"template\"),c=0;c<r.length;c++)try{n(r[c].content)}catch(t){e(t)}}(t)}catch(t){e(t)}}var c=\"/cdn-cgi/l/email-protection#\",o=\".__cf_email__\",a=\"data-cfemail\",i=document.createElement(\"div\");n(document),function(){var e=document.currentScript||document.scripts[document.scripts.length-1];e.parentNode.removeChild(e)}()}();</script><script>(function(){function c(){var b=a.contentDocument||a.contentWindow.document;if(b){var d=b.createElement('script');d.innerHTML=\"window.__CF$cv$params={r:'9273e4c45e9313bb',t:'MTc0MzEzMDk5OC4wMDAwMDA='};var a=document.createElement('script');a.nonce='';a.src='/cdn-cgi/challenge-platform/scripts/jsd/main.js';document.getElementsByTagName('head')[0].appendChild(a);\";b.getElementsByTagName('head')[0].appendChild(d)}}if(document.body){var a=document.createElement('iframe');a.height=1;a.width=1;a.style.position='absolute';a.style.top=0;a.style.left=0;a.style.border='none';a.style.visibility='hidden';document.body.appendChild(a);if('loading'!==document.readyState)c();else if(window.addEventListener)document.addEventListener('DOMContentLoaded',c);else{var e=document.onreadystatechange||function(){};document.onreadystatechange=function(b){e(b);'loading'!==document.readyState&&(document.onreadystatechange=e,c())}}}})();</script></body>\n",
                            "</html>"
                        ]
                    },
                    "execution_count": 3,
                    "metadata": {},
                    "output_type": "execute_result"
                }
            ],
            "source": [
                "#generamos el arbol de elementos\n",
                "soup = BeautifulSoup(html_amazon,\"html\")\n",
                "soup"
            ]
        },
        {
            "cell_type": "code",
            "execution_count": 4,
            "metadata": {},
            "outputs": [
                {
                    "data": {
                        "text/plain": [
                            "[]"
                        ]
                    },
                    "execution_count": 4,
                    "metadata": {},
                    "output_type": "execute_result"
                }
            ],
            "source": [
                "#buscamos las tablas\n",
                "tables = soup.find_all(\"historical_data_table table\")  \n",
                "tables"
            ]
        },
        {
            "cell_type": "code",
            "execution_count": 5,
            "metadata": {},
            "outputs": [
                {
                    "ename": "NameError",
                    "evalue": "name 'table_index' is not defined",
                    "output_type": "error",
                    "traceback": [
                        "\u001b[31m---------------------------------------------------------------------------\u001b[39m",
                        "\u001b[31mNameError\u001b[39m                                 Traceback (most recent call last)",
                        "\u001b[36mCell\u001b[39m\u001b[36m \u001b[39m\u001b[32mIn[5]\u001b[39m\u001b[32m, line 5\u001b[39m\n\u001b[32m      3\u001b[39m         table_index = i\n\u001b[32m      4\u001b[39m         \u001b[38;5;28;01mbreak\u001b[39;00m\n\u001b[32m----> \u001b[39m\u001b[32m5\u001b[39m \u001b[43mtable_index\u001b[49m\n",
                        "\u001b[31mNameError\u001b[39m: name 'table_index' is not defined"
                    ]
                }
            ],
            "source": [
                "for i, t in tables:\n",
                "    if (\"Amazon Quarterly Revenue\" in str(t)):\n",
                "        table_index = i\n",
                "        break\n",
                "table_index"
            ]
        },
        {
            "cell_type": "code",
            "execution_count": 6,
            "metadata": {},
            "outputs": [
                {
                    "ename": "NameError",
                    "evalue": "name 'table' is not defined",
                    "output_type": "error",
                    "traceback": [
                        "\u001b[31m---------------------------------------------------------------------------\u001b[39m",
                        "\u001b[31mNameError\u001b[39m                                 Traceback (most recent call last)",
                        "\u001b[36mCell\u001b[39m\u001b[36m \u001b[39m\u001b[32mIn[6]\u001b[39m\u001b[32m, line 3\u001b[39m\n\u001b[32m      1\u001b[39m \u001b[38;5;66;03m# Crear el DataFrame\u001b[39;00m\n\u001b[32m      2\u001b[39m amazon_revenue = pd.DataFrame(columns = [\u001b[33m\"\u001b[39m\u001b[33mDate\u001b[39m\u001b[33m\"\u001b[39m, \u001b[33m\"\u001b[39m\u001b[33mRevenue\u001b[39m\u001b[33m\"\u001b[39m])\n\u001b[32m----> \u001b[39m\u001b[32m3\u001b[39m \u001b[38;5;28;01mfor\u001b[39;00m row \u001b[38;5;129;01min\u001b[39;00m \u001b[43mtable\u001b[49m[table_index].tbody.find_all(\u001b[33m\"\u001b[39m\u001b[33mtr\u001b[39m\u001b[33m\"\u001b[39m):\n\u001b[32m      4\u001b[39m     col = row.find_all(\u001b[33m\"\u001b[39m\u001b[33mtd\u001b[39m\u001b[33m\"\u001b[39m)\n\u001b[32m      5\u001b[39m     \u001b[38;5;28;01mif\u001b[39;00m (col != []):\n",
                        "\u001b[31mNameError\u001b[39m: name 'table' is not defined"
                    ]
                }
            ],
            "source": [
                "# Crear el DataFrame\n",
                "amazon_revenue = pd.DataFrame(columns = [\"Date\", \"Revenue\"])\n",
                "for row in table[table_index].tbody.find_all(\"tr\"):\n",
                "    col = row.find_all(\"td\")\n",
                "    if (col != []):\n",
                "        Date = col[0].text\n",
                "        Revenue = col[1].text.replace(\"$\", \"\").replace(\",\", \"\")\n",
                "        amazon_revenue = pd.concat([amazon_revenue, pd.DataFrame({\n",
                "            \"Date\": Date,\n",
                "            \"Revenue\": Revenue\n",
                "        }, index = [0])], ignore_index = True)\n",
                "\n"
            ]
        }
    ],
    "metadata": {
        "kernelspec": {
            "display_name": "Python 3",
            "language": "python",
            "name": "python3"
        },
        "language_info": {
            "codemirror_mode": {
                "name": "ipython",
                "version": 3
            },
            "file_extension": ".py",
            "mimetype": "text/x-python",
            "name": "python",
            "nbconvert_exporter": "python",
            "pygments_lexer": "ipython3",
            "version": "3.11.4"
        },
        "orig_nbformat": 4
    },
    "nbformat": 4,
    "nbformat_minor": 2
}
